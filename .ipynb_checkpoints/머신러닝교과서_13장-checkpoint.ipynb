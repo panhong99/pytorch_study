{
 "cells": [
  {
   "cell_type": "markdown",
   "id": "db5cc1d4-62ce-4b58-9d8e-3b023aa27fb1",
   "metadata": {},
   "source": [
    "# 13장 파이토치 구조 자세히 알아보기\n",
    "\n",
    "- 계산 그래프 이해하고 다루기\n",
    "- 텐서 객체 다루기\n",
    "- XOR문제 해결하고 모델의 수용 능력 이해하기"
   ]
  },
  {
   "cell_type": "code",
   "execution_count": 1,
   "id": "6fce7cbc-4e9f-400f-920a-31415d8d66ed",
   "metadata": {},
   "outputs": [],
   "source": [
    "import torch "
   ]
  },
  {
   "cell_type": "code",
   "execution_count": 14,
   "id": "bca19176-f21f-4109-8bf4-1a5cdeac1fff",
   "metadata": {},
   "outputs": [],
   "source": [
    "def compute_z(a,b,c):\n",
    "    r1 = torch.sub(a,b)\n",
    "    r2 = torch.mul(r1 , 2)\n",
    "    z = torch.add(r2 , c)\n",
    "    return z"
   ]
  },
  {
   "cell_type": "code",
   "execution_count": 17,
   "id": "7021f30c-1131-4eff-9849-7477274c7d50",
   "metadata": {},
   "outputs": [
    {
     "name": "stdout",
     "output_type": "stream",
     "text": [
      "스칼라 입력 :  tensor(1)\n",
      "랭크 1 입력 :  tensor([1])\n",
      "랭크 2 입력 :  tensor([[1]])\n"
     ]
    }
   ],
   "source": [
    "print('스칼라 입력 : ' , compute_z(torch.tensor(1) , \n",
    "                             torch.tensor(2) , torch.tensor(3)))\n",
    "print('랭크 1 입력 : ' , compute_z(torch.tensor([1]) , \n",
    "                             torch.tensor([2]) , torch.tensor([3])))\n",
    "print('랭크 2 입력 : ' , compute_z(torch.tensor([[1]]) , torch.tensor([[2]]) , torch.tensor([[3]])))"
   ]
  },
  {
   "cell_type": "markdown",
   "id": "2610b488-aba2-42f8-b55f-efa004366738",
   "metadata": {},
   "source": [
    "# 파라미터를 저장 , 업데이트 하기 위한 파이토치 객체 \n",
    "- require_grad = True라고 지정해놓으면 그레디언트 게산시 값이 업데이트 됨\n",
    "- 현재는 부동소수점 , 복소수 dtype의 tensor만 그레디언트 요구가 가능"
   ]
  },
  {
   "cell_type": "code",
   "execution_count": 18,
   "id": "7043f1d1-5524-4a62-849b-d5791817ca74",
   "metadata": {},
   "outputs": [
    {
     "data": {
      "text/plain": [
       "tensor(3.1400, requires_grad=True)"
      ]
     },
     "execution_count": 18,
     "metadata": {},
     "output_type": "execute_result"
    }
   ],
   "source": [
    "a = torch.tensor(3.14 , requires_grad = True) # 그레디언트의 대한 계산을 수행할지 안할지에 대한 결정코드 : requires_grad\n",
    "a"
   ]
  },
  {
   "cell_type": "code",
   "execution_count": 20,
   "id": "235ce1d3-8d1e-4d93-9f65-d7258e27be0b",
   "metadata": {},
   "outputs": [
    {
     "data": {
      "text/plain": [
       "tensor([1., 2., 3.], requires_grad=True)"
      ]
     },
     "execution_count": 20,
     "metadata": {},
     "output_type": "execute_result"
    }
   ],
   "source": [
    "b = torch.tensor([1.0 , 2.0 , 3.0] , requires_grad = True)\n",
    "b"
   ]
  },
  {
   "cell_type": "code",
   "execution_count": 24,
   "id": "4f23ff42-d0b5-4ff2-9814-5f69619fe885",
   "metadata": {},
   "outputs": [
    {
     "data": {
      "text/plain": [
       "False"
      ]
     },
     "execution_count": 24,
     "metadata": {},
     "output_type": "execute_result"
    }
   ],
   "source": [
    "w = torch.tensor([1.0 , 2.0 , 3.0])\n",
    "w.requires_grad"
   ]
  },
  {
   "cell_type": "code",
   "execution_count": 29,
   "id": "69bea05c-efb3-4299-8f8d-8e63ac577d7f",
   "metadata": {},
   "outputs": [
    {
     "data": {
      "text/plain": [
       "tensor([[ 0.4183,  0.1688,  0.0390],\n",
       "        [ 0.3930, -0.2858, -0.1051]])"
      ]
     },
     "execution_count": 29,
     "metadata": {},
     "output_type": "execute_result"
    }
   ],
   "source": [
    "# 위에는 False로 나오는데 requires_grad_() <- 이렇게 _()까지 붙여주면 defalut값이 True가 됨\n",
    "import torch.nn as nn\n",
    "torch.manual_seed(1)\n",
    "w = torch.empty(2,3) # 빈 텐서를 생성 \n",
    "nn.init.xavier_normal_(w) # xavier 머시기 함수를 호출하면 글로럿 초기화를 따르는 값으로 빈 텐서를 채움\n",
    "w"
   ]
  },
  {
   "cell_type": "code",
   "execution_count": 31,
   "id": "9629ad38-01a2-4095-a9b8-f228b90cf75e",
   "metadata": {},
   "outputs": [],
   "source": [
    "# class내에 2개의 random값이 채워진 텐서를 생성해놓음 \n",
    "# True로 되어있으니 기울기 게산할 때 자동으로 값이 업데이트 됨\n",
    "class MyModule(nn.Module):\n",
    "    def __init__(self):\n",
    "        super().__init__()\n",
    "        self.w1 = torch.empty(2,3, requires_grad = True)\n",
    "        nn.init.xavier_normal_(self.w1)\n",
    "        self.w2 = torch.empty(1,2, requires_grad = True)\n",
    "        nn.init.xavier_normal_(self.w2)        "
   ]
  },
  {
   "cell_type": "markdown",
   "id": "34037d4f-17d9-4bce-8cca-bb17acfdb7c1",
   "metadata": {},
   "source": [
    "# 자동 미분으로 기울기 계산\n",
    "### 연쇄법칙 이용"
   ]
  },
  {
   "cell_type": "code",
   "execution_count": 34,
   "id": "ded8177e-5c32-45e1-9fa7-0cf5c9cb65af",
   "metadata": {},
   "outputs": [
    {
     "name": "stdout",
     "output_type": "stream",
     "text": [
      "dL / dw :  tensor(-0.5600)\n",
      "dL / db :  tensor(-0.4000)\n"
     ]
    }
   ],
   "source": [
    "w = torch.tensor(1.0 , requires_grad = True)\n",
    "b = torch.tensor(0.5 , requires_grad = True)\n",
    "x = torch.tensor([1.4])\n",
    "y = torch.tensor([2.1])\n",
    "z = torch.add(torch.mul(w,x) , b)\n",
    "loss = (y-z).pow(2).sum()\n",
    "loss.backward()\n",
    "print('dL / dw : ' , w.grad)\n",
    "print('dL / db : ' , b.grad)"
   ]
  },
  {
   "cell_type": "code",
   "execution_count": 35,
   "id": "f90a468c-193a-42f4-b90e-a1d841d64fd7",
   "metadata": {},
   "outputs": [
    {
     "name": "stdout",
     "output_type": "stream",
     "text": [
      "tensor([-0.5600], grad_fn=<MulBackward0>)\n"
     ]
    }
   ],
   "source": [
    "# 계산된 그레디언트 확인\n",
    "print(2 * x * ((w * x + b) - y))"
   ]
  },
  {
   "cell_type": "markdown",
   "id": "bb01219e-2ee4-4e42-ab65-31c529c3db6d",
   "metadata": {},
   "source": [
    "# nn.Sequential 기반의 모델 구현하기"
   ]
  },
  {
   "cell_type": "code",
   "execution_count": 38,
   "id": "9fe28d24-0ba7-4ca7-ad0d-f989d706d54d",
   "metadata": {},
   "outputs": [
    {
     "data": {
      "text/plain": [
       "Sequential(\n",
       "  (0): Linear(in_features=4, out_features=16, bias=True)\n",
       "  (1): ReLU()\n",
       "  (2): Linear(in_features=16, out_features=32, bias=True)\n",
       "  (3): ReLU()\n",
       ")"
      ]
     },
     "execution_count": 38,
     "metadata": {},
     "output_type": "execute_result"
    }
   ],
   "source": [
    "model = nn.Sequential(\n",
    "    nn.Linear(4,16),\n",
    "    nn.ReLU(),\n",
    "    nn.Linear(16 , 32),\n",
    "    nn.ReLU()\n",
    ")\n",
    "model    "
   ]
  },
  {
   "cell_type": "code",
   "execution_count": 37,
   "id": "3f72daf1-de5f-4541-97eb-4bf38d203229",
   "metadata": {},
   "outputs": [],
   "source": [
    "nn.init.xavier_uniform_(model[0].weight)\n",
    "l1_weight = 0.01\n",
    "l1_penalty = l1_weight * model[2].weight.abs().sum()"
   ]
  },
  {
   "cell_type": "code",
   "execution_count": 41,
   "id": "c94dc332-7dee-4256-9977-ab564bd9e341",
   "metadata": {},
   "outputs": [],
   "source": [
    "# 손실 함수 선택하기\n",
    "# 손실 함수의 선택은 문제에 따라 상이함\n",
    "# 예를 들면 회귀문제에서는 MSE를 사용할 수 있음\n",
    "# SGD optimizer와 이진분류를 위한 Cross entropy 손실 사용\n",
    "\n",
    "loss_fn = nn.BCELoss()\n",
    "optimizer = torch.optim.SGD(model.parameters() , lr = 0.001)"
   ]
  },
  {
   "cell_type": "code",
   "execution_count": 51,
   "id": "82180a4b-4211-48a8-a620-d23f7470675c",
   "metadata": {},
   "outputs": [
    {
     "data": {
      "image/png": "[encoded data removed]",
      "text/plain": [
       "<Figure size 600x600 with 1 Axes>"
      ]
     },
     "metadata": {},
     "output_type": "display_data"
    }
   ],
   "source": [
    "# XOR분류 문제 풀어보기\n",
    "\n",
    "import matplotlib.pyplot as plt\n",
    "import numpy as np \n",
    "torch.manual_seed(1)\n",
    "np.random.seed(1)\n",
    "x = np.random.uniform(low = -1 , high = 1 , size = (200 , 2)) # [-1,1] 사이에 균등분포 200개 생성\n",
    "y = np.ones(len(x)) # size : x의 len  \n",
    "y[x[: ,0] * x[: , 1] < 0] = 0 # True = 1 / False = 0 조건문 , 이 조건문으로 y의 값 채움\n",
    "n_train = 100\n",
    "x_train = torch.tensor(x[:n_train, :] , dtype = torch.float32) \n",
    "y_train = torch.tensor(y[:n_train] , dtype = torch.float32)\n",
    "x_valid = torch.tensor(x[n_train:, :] , dtype = torch.float32)\n",
    "y_valid = torch.tensor(y[n_train:] , dtype = torch.float32)\n",
    "fig = plt.figure(figsize = (6,6))\n",
    "plt.plot(x[y==0,0] , x[y==0,1] , 'o' , alpha = 0.75 , markersize = 10) # x[y==0,0]  y == 0 인 원소의 index를 가져오고 그 index번호를 이용해서 x에 몇 행 , 몇 열의 원소를 가져와라 라는 명령어임\n",
    "plt.plot(x[y==1,0] , x[y==1,1] , '<' , alpha = 0.75 , markersize = 10)\n",
    "plt.show()"
   ]
  },
  {
   "cell_type": "code",
   "execution_count": 60,
   "id": "39a99098-a427-4bb6-90fc-e4f2af36dc90",
   "metadata": {
    "scrolled": true
   },
   "outputs": [
    {
     "data": {
      "text/plain": [
       "array([-0.99977125, -0.70648822, -0.62747958, -0.71922612,  0.60148914,\n",
       "        0.7527783 , -0.82991158, -0.80330633,  0.91577906,  0.37300186,\n",
       "        0.97772218, -0.79354799, -0.42444932, -0.57674377, -0.01685368,\n",
       "        0.17861107, -0.79533114,  0.32758929,  0.88918951, -0.20464633,\n",
       "        0.50162421,  0.76661218,  0.326883  , -0.18372639,  0.80675904,\n",
       "        0.8170703 ,  0.38179384, -0.65531898,  0.86519093,  0.50775238,\n",
       "       -0.96023973, -0.94338702,  0.7200559 ,  0.10564396, -0.75165337,\n",
       "        0.17151854,  0.72708371, -0.88016462, -0.91089624,  0.94003998,\n",
       "       -0.52030448,  0.23991144, -0.68641721, -0.85995571,  0.21265892,\n",
       "        0.10189644, -0.86733033,  0.04934062, -0.47340646,  0.47013193,\n",
       "        0.81563171, -0.97209685,  0.23355671,  0.90035224,  0.8312127 ,\n",
       "       -0.21998457,  0.20862097,  0.85236285, -0.65208867, -0.64760749,\n",
       "        0.16402836,  0.68946889,  0.57585847, -0.89218146,  0.35813767,\n",
       "        0.2094322 ,  0.14942301,  0.50004353,  0.51016438, -0.2357945 ,\n",
       "       -0.19704083,  0.94760416, -0.60286022,  0.75999658,  0.05542929,\n",
       "        0.14497703,  0.03802325, -0.31462218, -0.24415164,  0.6237174 ,\n",
       "        0.3768265 , -0.67805713, -0.3096559 ,  0.83261111, -0.48576341,\n",
       "       -0.61407454, -0.53266772,  0.08802024,  0.68941922,  0.73321655,\n",
       "        0.652814  ,  0.40703398,  0.54047747, -0.48060321,  0.56549883,\n",
       "       -0.39950332,  0.80261687,  0.94948074,  0.98782605, -0.28858966,\n",
       "       -0.93920062,  0.72469251, -0.5045342 , -0.40533724,  0.1868649 ,\n",
       "        0.02228296])"
      ]
     },
     "execution_count": 60,
     "metadata": {},
     "output_type": "execute_result"
    }
   ],
   "source": []
  },
  {
   "cell_type": "code",
   "execution_count": 53,
   "id": "8a69ba0d-22dc-4d09-bfc7-79f70bb6063b",
   "metadata": {},
   "outputs": [
    {
     "data": {
      "text/plain": [
       "array([[-1.65955991e-01,  4.40648987e-01],\n",
       "       [-9.99771250e-01, -3.95334855e-01],\n",
       "       [-7.06488218e-01, -8.15322810e-01],\n",
       "       [-6.27479577e-01, -3.08878546e-01],\n",
       "       [-2.06465052e-01,  7.76334680e-02],\n",
       "       [-1.61610971e-01,  3.70439001e-01],\n",
       "       [-5.91095501e-01,  7.56234873e-01],\n",
       "       [-9.45224814e-01,  3.40935020e-01],\n",
       "       [-1.65390395e-01,  1.17379657e-01],\n",
       "       [-7.19226123e-01, -6.03797022e-01],\n",
       "       [ 6.01489137e-01,  9.36523151e-01],\n",
       "       [-3.73151644e-01,  3.84645231e-01],\n",
       "       [ 7.52778305e-01,  7.89213327e-01],\n",
       "       [-8.29911577e-01, -9.21890434e-01],\n",
       "       [-6.60339161e-01,  7.56285007e-01],\n",
       "       [-8.03306332e-01, -1.57784750e-01],\n",
       "       [ 9.15779060e-01,  6.63305699e-02],\n",
       "       [ 3.83754228e-01, -3.68968738e-01],\n",
       "       [ 3.73001855e-01,  6.69251344e-01],\n",
       "       [-9.63423445e-01,  5.00288630e-01],\n",
       "       [ 9.77722178e-01,  4.96331309e-01],\n",
       "       [-4.39112016e-01,  5.78558657e-01],\n",
       "       [-7.93547987e-01, -1.04212948e-01],\n",
       "       [ 8.17191006e-01, -4.12771703e-01],\n",
       "       [-4.24449323e-01, -7.39942856e-01],\n",
       "       [-9.61266084e-01,  3.57671066e-01],\n",
       "       [-5.76743768e-01, -4.68906681e-01],\n",
       "       [-1.68536814e-02, -8.93274910e-01],\n",
       "       [ 1.48235211e-01, -7.06542850e-01],\n",
       "       [ 1.78611074e-01,  3.99516720e-01],\n",
       "       [-7.95331142e-01, -1.71888024e-01],\n",
       "       [ 3.88800315e-01, -1.71641461e-01],\n",
       "       [-9.00093082e-01,  7.17928118e-02],\n",
       "       [ 3.27589290e-01,  2.97782241e-02],\n",
       "       [ 8.89189512e-01,  1.73110081e-01],\n",
       "       [ 8.06803831e-01, -7.25050592e-01],\n",
       "       [-7.21447305e-01,  6.14782577e-01],\n",
       "       [-2.04646326e-01, -6.69291606e-01],\n",
       "       [ 8.55017161e-01, -3.04468281e-01],\n",
       "       [ 5.01624206e-01,  4.51995971e-01],\n",
       "       [ 7.66612182e-01,  2.47344414e-01],\n",
       "       [ 5.01884868e-01, -3.02203316e-01],\n",
       "       [-4.60144216e-01,  7.91772436e-01],\n",
       "       [-1.43817620e-01,  9.29680094e-01],\n",
       "       [ 3.26882996e-01,  2.43391440e-01],\n",
       "       [-7.70508054e-01,  8.98978517e-01],\n",
       "       [-1.00175733e-01,  1.56779229e-01],\n",
       "       [-1.83726394e-01, -5.25946040e-01],\n",
       "       [ 8.06759041e-01,  1.47358973e-01],\n",
       "       [-9.94259346e-01,  2.34289827e-01],\n",
       "       [-3.46710196e-01,  5.41162045e-02],\n",
       "       [ 7.71884199e-01, -2.85460480e-01],\n",
       "       [ 8.17070302e-01,  2.46720232e-01],\n",
       "       [-9.68357514e-01,  8.58874467e-01],\n",
       "       [ 3.81793835e-01,  9.94645701e-01],\n",
       "       [-6.55318983e-01, -7.25728501e-01],\n",
       "       [ 8.65190926e-01,  3.93636323e-01],\n",
       "       [-8.67999655e-01,  5.10926105e-01],\n",
       "       [ 5.07752377e-01,  8.46049071e-01],\n",
       "       [ 4.23049517e-01, -7.51458076e-01],\n",
       "       [-9.60239732e-01, -9.47578026e-01],\n",
       "       [-9.43387024e-01, -5.07577865e-01],\n",
       "       [ 7.20055897e-01,  7.76621287e-02],\n",
       "       [ 1.05643957e-01,  6.84061785e-01],\n",
       "       [-7.51653370e-01, -4.41632642e-01],\n",
       "       [ 1.71518543e-01,  9.39191497e-01],\n",
       "       [ 1.22060439e-01, -9.62705421e-01],\n",
       "       [ 6.01265345e-01, -5.34051452e-01],\n",
       "       [ 6.14210391e-01, -2.24278712e-01],\n",
       "       [ 7.27083709e-01,  4.94243285e-01],\n",
       "       [ 1.12480468e-01, -7.27089549e-01],\n",
       "       [-8.80164621e-01, -7.57313089e-01],\n",
       "       [-9.10896243e-01, -7.85011742e-01],\n",
       "       [-5.48581323e-01,  4.25977961e-01],\n",
       "       [ 1.19433964e-01, -9.74888040e-01],\n",
       "       [-8.56051441e-01,  9.34552660e-01],\n",
       "       [ 1.36200924e-01, -5.93413531e-01],\n",
       "       [-4.95348511e-01,  4.87651708e-01],\n",
       "       [-6.09141038e-01,  1.62717855e-01],\n",
       "       [ 9.40039978e-01,  6.93657603e-01],\n",
       "       [-5.20304482e-01, -1.24605715e-02],\n",
       "       [ 2.39911437e-01,  6.57961799e-01],\n",
       "       [-6.86417211e-01, -9.62847596e-01],\n",
       "       [-8.59955713e-01, -2.73097781e-02],\n",
       "       [ 2.12658923e-01,  1.37702874e-01],\n",
       "       [-3.65275181e-01,  9.77232309e-01],\n",
       "       [ 1.59490438e-01, -2.39717655e-01],\n",
       "       [ 1.01896438e-01,  4.90668862e-01],\n",
       "       [ 3.38465787e-01, -4.70160885e-01],\n",
       "       [-8.67330331e-01, -2.59831604e-01],\n",
       "       [ 2.59435014e-01, -5.79651980e-01],\n",
       "       [ 5.05511107e-01, -8.66927037e-01],\n",
       "       [-4.79369803e-01,  6.09509127e-01],\n",
       "       [-6.13131435e-01,  2.78921762e-01],\n",
       "       [ 4.93406182e-02,  8.49615941e-01],\n",
       "       [-4.73406459e-01, -8.68077819e-01],\n",
       "       [ 4.70131927e-01,  5.44356059e-01],\n",
       "       [ 8.15631705e-01,  8.63944138e-01],\n",
       "       [-9.72096854e-01, -5.31275828e-01],\n",
       "       [ 2.33556714e-01,  8.98032641e-01],\n",
       "       [ 9.00352238e-01,  1.13306376e-01],\n",
       "       [ 8.31212700e-01,  2.83132418e-01],\n",
       "       [-2.19984572e-01, -2.80186658e-02],\n",
       "       [ 2.08620966e-01,  9.90958430e-02],\n",
       "       [ 8.52362853e-01,  8.37466871e-01],\n",
       "       [-2.10248774e-01,  9.26525057e-01],\n",
       "       [-6.52088667e-01, -7.47340961e-01],\n",
       "       [-7.29841684e-01,  1.13243314e-02],\n",
       "       [-9.56950389e-01,  8.95940422e-01],\n",
       "       [ 6.54230942e-01, -9.69962039e-01],\n",
       "       [-6.47607489e-01, -3.35872851e-01],\n",
       "       [-7.38006310e-01,  6.18981384e-01],\n",
       "       [-3.10526695e-01,  8.80214965e-01],\n",
       "       [ 1.64028360e-01,  7.57663969e-01],\n",
       "       [ 6.89468891e-01,  8.10784637e-01],\n",
       "       [-8.02394684e-02,  9.26936320e-02],\n",
       "       [ 5.97207182e-01, -4.28562297e-01],\n",
       "       [-1.94929548e-02,  1.98220615e-01],\n",
       "       [-9.68933449e-01,  1.86962816e-01],\n",
       "       [-1.32647302e-01,  6.14721058e-01],\n",
       "       [-3.69510394e-01,  7.85777417e-01],\n",
       "       [ 1.55714431e-01, -6.31979597e-01],\n",
       "       [ 5.75858468e-01,  2.24062354e-01],\n",
       "       [-8.92181456e-01, -1.59612640e-01],\n",
       "       [ 3.58137673e-01,  8.37203556e-01],\n",
       "       [-9.99195950e-01,  9.53518298e-01],\n",
       "       [-2.46839371e-01,  9.47567077e-01],\n",
       "       [ 2.09432202e-01,  6.57691616e-01],\n",
       "       [ 1.49423009e-01,  2.56152397e-01],\n",
       "       [-4.28847437e-01,  1.73666681e-01],\n",
       "       [ 5.00043527e-01,  7.16627673e-01],\n",
       "       [ 5.10164377e-01,  3.96114497e-01],\n",
       "       [ 7.28958860e-01, -3.54638006e-01],\n",
       "       [ 3.41577582e-01, -9.82521272e-02],\n",
       "       [-2.35794496e-01, -1.78377300e-01],\n",
       "       [-1.97040833e-01, -3.65232108e-01],\n",
       "       [ 2.43838736e-01, -1.39505458e-01],\n",
       "       [ 9.47604156e-01,  3.55601783e-01],\n",
       "       [-6.02860223e-01, -1.46597981e-01],\n",
       "       [-3.13307520e-01,  5.95277608e-01],\n",
       "       [ 7.59996577e-01,  8.07683912e-01],\n",
       "       [ 3.25439625e-01, -4.59583476e-01],\n",
       "       [-4.95266597e-01,  7.09795885e-01],\n",
       "       [ 5.54292926e-02,  6.04322168e-01],\n",
       "       [ 1.44977034e-01,  4.66285051e-01],\n",
       "       [ 3.80232549e-02,  5.41767821e-01],\n",
       "       [ 1.37715981e-01, -6.85802428e-02],\n",
       "       [-3.14622184e-01, -8.63581303e-01],\n",
       "       [-2.44151641e-01, -8.40747845e-01],\n",
       "       [ 9.65634227e-01, -6.36774297e-01],\n",
       "       [ 6.23717395e-01,  7.49923290e-01],\n",
       "       [ 3.76826505e-01,  1.38988825e-01],\n",
       "       [-6.78057126e-01, -6.62399545e-02],\n",
       "       [-3.09655898e-01, -5.49920084e-01],\n",
       "       [ 1.85023738e-01, -3.75460325e-01],\n",
       "       [ 8.32611107e-01,  8.19271050e-01],\n",
       "       [-4.85763412e-01, -7.78217399e-01],\n",
       "       [-6.14074536e-01, -8.31658642e-04],\n",
       "       [ 4.57171336e-01, -5.83611123e-01],\n",
       "       [-5.03932883e-01,  7.03343750e-01],\n",
       "       [-1.68302563e-01,  2.33370134e-01],\n",
       "       [-5.32667722e-01, -7.96065481e-01],\n",
       "       [ 3.17140339e-02, -4.57180259e-02],\n",
       "       [-6.94656712e-01,  2.43612463e-01],\n",
       "       [ 8.80202376e-02,  3.08274694e-01],\n",
       "       [-7.10908920e-01,  5.03055634e-01],\n",
       "       [-5.55901720e-01,  3.87036487e-02],\n",
       "       [ 5.70592056e-01, -9.55339144e-01],\n",
       "       [-3.51275081e-01,  7.45844753e-01],\n",
       "       [ 6.89419215e-01,  7.68811852e-02],\n",
       "       [ 7.33216548e-01,  8.99611983e-01],\n",
       "       [ 6.52813995e-01,  7.08230888e-01],\n",
       "       [-8.02513196e-01,  3.02608665e-01],\n",
       "       [ 4.07033976e-01,  2.20481625e-01],\n",
       "       [ 5.99230523e-01, -9.30857560e-01],\n",
       "       [ 5.40477469e-01,  4.63457201e-01],\n",
       "       [-4.80603213e-01, -4.85861402e-01],\n",
       "       [ 2.64606635e-01, -3.09405077e-01],\n",
       "       [ 5.93177356e-01, -1.07707536e-01],\n",
       "       [ 5.65498830e-01,  9.80943567e-01],\n",
       "       [-3.99503321e-01, -7.13988343e-01],\n",
       "       [ 8.02616873e-01,  8.31187578e-02],\n",
       "       [ 9.49480742e-01,  2.73208800e-01],\n",
       "       [ 9.87826049e-01,  9.21416083e-02],\n",
       "       [ 5.28518678e-02, -7.29144194e-01],\n",
       "       [-2.88589658e-01, -9.47562865e-01],\n",
       "       [-6.79209641e-01,  4.91274385e-01],\n",
       "       [-9.39200620e-01, -2.66913806e-01],\n",
       "       [ 7.24692506e-01,  3.85355435e-01],\n",
       "       [ 3.81884284e-01, -6.22726398e-01],\n",
       "       [-1.16191439e-01,  1.63154815e-01],\n",
       "       [ 9.79503415e-01, -5.92187550e-01],\n",
       "       [-5.04534196e-01, -4.75653832e-01],\n",
       "       [ 5.00344827e-01, -8.60493451e-02],\n",
       "       [-8.86141123e-01,  1.70324812e-02],\n",
       "       [-5.76079671e-01,  5.97208490e-01],\n",
       "       [-4.05337237e-01, -9.44787976e-01],\n",
       "       [ 1.86864899e-01,  6.87680858e-01],\n",
       "       [-2.37967752e-01,  4.99716621e-01],\n",
       "       [ 2.22829566e-02,  8.19036099e-02]])"
      ]
     },
     "execution_count": 53,
     "metadata": {},
     "output_type": "execute_result"
    }
   ],
   "source": []
  },
  {
   "cell_type": "code",
   "execution_count": null,
   "id": "d8421d05-2c43-44f8-b5b3-8c2ef4e91228",
   "metadata": {},
   "outputs": [],
   "source": []
  }
 ],
 "metadata": {
  "kernelspec": {
   "display_name": "Python 3 (ipykernel)",
   "language": "python",
   "name": "python3"
  },
  "language_info": {
   "codemirror_mode": {
    "name": "ipython",
    "version": 3
   },
   "file_extension": ".py",
   "mimetype": "text/x-python",
   "name": "python",
   "nbconvert_exporter": "python",
   "pygments_lexer": "ipython3",
   "version": "3.11.5"
  }
 },
 "nbformat": 4,
 "nbformat_minor": 5
}
